{
 "cells": [
  {
   "cell_type": "code",
   "execution_count": 2,
   "metadata": {
    "collapsed": true
   },
   "outputs": [],
   "source": [
    "import numpy as np\n",
    "from skimage.io import imread, imsave, imshow\n",
    "from skimage.color import rgb2gray\n",
    "from skimage import img_as_ubyte\n",
    "from scipy.fftpack import dct, idct"
   ]
  },
  {
   "cell_type": "code",
   "execution_count": 3,
   "metadata": {
    "collapsed": true
   },
   "outputs": [],
   "source": [
    "# Подсчет энтропии (взят из 1 лабораторной работы)\n",
    "def entropy(img):\n",
    "    frcy = np.array([0 for i in range(256)])\n",
    "    for row in img:\n",
    "        for px in row:\n",
    "            frcy[px] += 1\n",
    "            \n",
    "    n = len(img) * len(img[0])\n",
    "    frcy = frcy / n\n",
    "    ent = -np.sum([p * np.log2(p) for p in frcy if p != 0])\n",
    "    return ent"
   ]
  },
  {
   "cell_type": "code",
   "execution_count": 6,
   "metadata": {
    "collapsed": true
   },
   "outputs": [],
   "source": [
    "# Подсчет RMSE и PSNR\n",
    "def psnr(img1, img2):\n",
    "    rmse = np.sqrt(np.sum(np.power(img1 - img2, 2)) / img1.shape[0] / img1.shape[1])\n",
    "    if rmse == 0:\n",
    "        return 100\n",
    "    pxmax = 255.0\n",
    "    return 20 * math.log10(pxmax / math.sqrt(rmse))"
   ]
  },
  {
   "cell_type": "code",
   "execution_count": 4,
   "metadata": {
    "collapsed": true
   },
   "outputs": [],
   "source": [
    "# Таблицы квантовнаия JPEG для яркости и цветности\n",
    "luminosityTable = [\n",
    "                    [16, 11, 10, 16, 24, 40, 51, 61],\n",
    "                    [12, 12, 14, 19, 26, 58, 60, 55],\n",
    "                    [14, 13, 16, 24, 40, 57, 69, 56],\n",
    "                    [14, 17, 22, 29, 51, 87, 80, 62],\n",
    "                    [18, 22, 37, 56, 68, 109, 103, 77],\n",
    "                    [24, 35, 55, 64, 81, 104, 113, 92],\n",
    "                    [49, 64, 78, 87, 103, 121, 120, 101],\n",
    "                    [72, 92, 95, 98, 112, 100, 103, 99],\n",
    "                    ]\n",
    "\n",
    "colorTable = [\n",
    "                [17, 18, 24, 47, 99, 99, 99, 99],\n",
    "                [18, 21, 26, 66, 99, 99, 99, 99],\n",
    "                [24, 26, 56, 99, 99, 99, 99, 99],\n",
    "                [47, 66, 99, 99, 99, 99, 99, 99],\n",
    "                [99, 99, 99, 99, 99, 99, 99, 99],\n",
    "                [99, 99, 99, 99, 99, 99, 99, 99],\n",
    "                [99, 99, 99, 99, 99, 99, 99, 99],\n",
    "                [99, 99, 99, 99, 99, 99, 99, 99],\n",
    "                ]"
   ]
  },
  {
   "cell_type": "markdown",
   "metadata": {},
   "source": [
    "# Читаем картинку и начинаем применять алгоритм"
   ]
  },
  {
   "cell_type": "code",
   "execution_count": 10,
   "metadata": {
    "collapsed": true
   },
   "outputs": [],
   "source": [
    "witcher = imread('www.jpg')"
   ]
  },
  {
   "cell_type": "code",
   "execution_count": 11,
   "metadata": {
    "collapsed": true
   },
   "outputs": [],
   "source": [
    "# Перевод в YUV\n",
    "def img2yuv(img):\n",
    "    xform = np.array([[.299, .587, .114], [-.1687, -.3313, .5], [.5, -.4187, -.0813]])\n",
    "    yuv = img.dot(xform.T)\n",
    "    yuv[:, :, [1,2]] += 128\n",
    "    return np.uint8(yuv)"
   ]
  },
  {
   "cell_type": "code",
   "execution_count": 12,
   "metadata": {
    "collapsed": true
   },
   "outputs": [],
   "source": [
    "witcheryuv = img2yuv(witcher)"
   ]
  },
  {
   "cell_type": "code",
   "execution_count": 13,
   "metadata": {
    "collapsed": true
   },
   "outputs": [],
   "source": [
    "# Проводим децимацию\n",
    "def decimate(img):\n",
    "    u = witcheryuv[::2,::2,1].copy()\n",
    "    v = witcheryuv[::2,::2,2].copy()\n",
    "    y = witcheryuv[:,:,0].copy()\n",
    "    w, h = np.shape(cb)\n",
    "    w = w if not w % 8 else (w % 8) - 8\n",
    "    h = h if not h % 8 else (h % 8) - 8  \n",
    "    new_u = np.concatenate((u, u[:, w:]), axis=1)\n",
    "    new_v = np.concatenate((v, v[:, w:]), axis=1)\n",
    "    new_u = np.concatenate((new_cb, new_cb[h:,:]))\n",
    "    new_v = np.concatenate((new_cr, new_cr[h:,:]))\n",
    "    yw, yh = np.shape(y)\n",
    "    yw = -yw if not yw % 8 else (yw % 8) - 8\n",
    "    yh = -yh if not yh % 8 else (yh % 8) - 8\n",
    "    new_y =  np.concatenate((y, y[:, yw:]), axis=1)\n",
    "    new_y = np.concatenate((new_y, new_y[yh:,:]))\n",
    "    return (new_y, new_u, new_v)"
   ]
  },
  {
   "cell_type": "code",
   "execution_count": 14,
   "metadata": {
    "collapsed": true
   },
   "outputs": [],
   "source": [
    "decwitcher = decimate(witcheryuv)"
   ]
  },
  {
   "cell_type": "code",
   "execution_count": 15,
   "metadata": {
    "collapsed": true
   },
   "outputs": [],
   "source": [
    "# Кодируем в JPEG, применяя ДКП и таблицы квантования для каналов Y и UV\n",
    "def encode(img):\n",
    "    res = []\n",
    "    for i, layer in enumerate(decjoker):\n",
    "        res.append(np.empty_like(layer))\n",
    "        w, h = np.shape(res[-1])\n",
    "        for u_row in range(h // 8):\n",
    "            for u_col in range(w // 8):\n",
    "                st_y = u_row * 8\n",
    "                st_x = u_col * 8\n",
    "                dcted = dct(layer[st_y:st_y+8,st_x:st_x+8] - 128, axis=1)\n",
    "                qc = luminosityTable if i == 0 else colorTable\n",
    "                unit = np.round(dcted / qc)\n",
    "                res[-1][st_y:st_y+8,st_x:st_x+8] = unit\n",
    "    return tuple(res), np.shape(decwitcher)"
   ]
  },
  {
   "cell_type": "code",
   "execution_count": 16,
   "metadata": {
    "collapsed": true
   },
   "outputs": [],
   "source": [
    "encodedwitcher = encode(decwitcher)"
   ]
  },
  {
   "cell_type": "markdown",
   "metadata": {},
   "source": [
    "# Теперь проводим те же действия только в обратную сторону"
   ]
  },
  {
   "cell_type": "code",
   "execution_count": 17,
   "metadata": {
    "collapsed": true
   },
   "outputs": [],
   "source": [
    "# Декодируем\n",
    "def decode(img):\n",
    "    res = []\n",
    "    for i, layer in enumerate(data):\n",
    "        res.append(np.empty_like(layer))\n",
    "        w, h = np.shape(res[-1])\n",
    "        for u_row in range(h // 8):\n",
    "            for u_col in range(w // 8):\n",
    "                st_y = u_row * 8\n",
    "                st_x = u_col * 8\n",
    "                qc = luminosityTable if i == 0 else colorTable\n",
    "                quanted = layer[st_y:st_y+8,st_x:st_x+8] * qc\n",
    "                unit = idct(quanted, axis=1) / 16 + 128\n",
    "                res[-1][st_y:st_y+8,st_x:st_x+8] = unit\n",
    "        return tuple(res), np.shape(encodedjoker)"
   ]
  },
  {
   "cell_type": "code",
   "execution_count": 18,
   "metadata": {
    "collapsed": true
   },
   "outputs": [],
   "source": [
    "decodedwitcher = decode(encodedwitcher)"
   ]
  },
  {
   "cell_type": "code",
   "execution_count": 21,
   "metadata": {
    "collapsed": true
   },
   "outputs": [],
   "source": [
    "# Обратная децимация\n",
    "def revdecimate(img):\n",
    "    res = [data[0][:(shapes[1]-np.shape(data[0])[1]),\n",
    "                    :(shapes[0]-np.shape(data[0])[0])]]\n",
    "    for i,l in enumerate(data[1:]):\n",
    "        res.append(\n",
    "            np.array(\n",
    "                np.repeat(\n",
    "                    [np.repeat(\n",
    "                        [px for px in row], 2) \n",
    "                    for row in l], 2, axis=0)))\n",
    "        res[-1] = res[-1][:(shapes[1]-np.shape(res[-1])[1]),\n",
    "                            :(shapes[0]-np.shape(res[-1])[0])]\n",
    "    return np.uint8(np.dstack(tuple(res)))"
   ]
  },
  {
   "cell_type": "code",
   "execution_count": 22,
   "metadata": {
    "collapsed": true
   },
   "outputs": [],
   "source": [
    "revdecwitcher = revdecimate(decodedwitcher)"
   ]
  },
  {
   "cell_type": "code",
   "execution_count": 23,
   "metadata": {
    "collapsed": true
   },
   "outputs": [],
   "source": [
    "# Перевод обратно в RGB\n",
    "def yuv2img(img):\n",
    "    xform = np.array([[1, 0, 1.402], [1, -0.34414, -0.71414], [1, 1.772, 0]])\n",
    "    rgb = img.astype(np.float)\n",
    "    rgb[:, :, [1,2]] -= 128\n",
    "    rgb = rgb.dot(xform.T)\n",
    "    np.putmask(rgb, rgb > 255, 255)\n",
    "    np.putmask(rgb, rgb < 0, 0) \n",
    "    return np.uint8(rgb)"
   ]
  },
  {
   "cell_type": "code",
   "execution_count": 24,
   "metadata": {
    "collapsed": true
   },
   "outputs": [],
   "source": [
    "result = yuv2img(revdecwitcher)"
   ]
  }
 ],
 "metadata": {
  "kernelspec": {
   "display_name": "Python 3",
   "language": "python",
   "name": "python3"
  },
  "language_info": {
   "codemirror_mode": {
    "name": "ipython",
    "version": 3
   },
   "file_extension": ".py",
   "mimetype": "text/x-python",
   "name": "python",
   "nbconvert_exporter": "python",
   "pygments_lexer": "ipython3",
   "version": "3.7.0"
  }
 },
 "nbformat": 4,
 "nbformat_minor": 2
}
